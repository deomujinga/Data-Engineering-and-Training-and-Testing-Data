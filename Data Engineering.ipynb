{
 "cells": [
  {
   "cell_type": "markdown",
   "metadata": {},
   "source": [
    "# Objective"
   ]
  },
  {
   "cell_type": "markdown",
   "metadata": {},
   "source": [
    "To build a Naïve Bayes classifier system in Excel for the dataset - US Census 50k Predictor, with the help of python. The below script includes-\n",
    "1. Data cleaning\n",
    "2. Handling of missing values and duplicates, if any\n",
    "3. Data manipulation\n",
    "4. Finding correlation.\n"
   ]
  },
  {
   "cell_type": "markdown",
   "metadata": {},
   "source": [
    "## Reading Data and Importing required libraries"
   ]
  },
  {
   "cell_type": "code",
   "execution_count": 10,
   "metadata": {
    "scrolled": true
   },
   "outputs": [
    {
     "name": "stdout",
     "output_type": "stream",
     "text": [
      "Income is the Target Variable.\n",
      "Dataset shape:  (26527, 13)\n",
      "26527\n"
     ]
    }
   ],
   "source": [
    "#importing libraries\n",
    "import pandas as pd\n",
    "import numpy as np\n",
    "from sklearn.preprocessing import LabelEncoder\n",
    "\n",
    "#import necessary packages\n",
    "import warnings\n",
    "warnings.filterwarnings('ignore')\n",
    "\n",
    "#importing necessary data visualization packages\n",
    "import matplotlib.pyplot as plt\n",
    "import seaborn as sns\n",
    "\n",
    "from sklearn.linear_model import LogisticRegression\n",
    "import statsmodels.formula.api as smf # regression modeling\n",
    "from sklearn.model_selection import train_test_split # train/test split\n",
    "\n",
    "#Load the data\n",
    "file = \"./USCensusAbove50kPredictor.csv\"\n",
    "\n",
    "df = pd.read_csv(file, header = None)\n",
    "\n",
    "#Check the initial dataset shape and target variable\n",
    "print(\"Income is the Target Variable.\")\n",
    "print(\"Dataset shape: \", df.shape)\n",
    "\n",
    "#Keep Original data\n",
    "df_original = pd.DataFrame.copy(df)\n",
    "\n",
    "#df_len=len(df)\n",
    "\n"
   ]
  },
  {
   "cell_type": "markdown",
   "metadata": {},
   "source": [
    "## Insert Columns\n",
    "\n",
    "Insert columns to the dataset and map each column to the provided dictionary."
   ]
  },
  {
   "cell_type": "code",
   "execution_count": 14,
   "metadata": {},
   "outputs": [],
   "source": [
    "#Naming columns to the dataset\n",
    "df.columns =[\"Age\",\"Job_Occupation\",\"Employment_Type\",\"Weekly_Working_Hrs\",\"Gain_loss\",\"Education\",\"Completed_Yrs_Education\",\"Marital_Status\",\"Rel_Title\",\"Race\",'Gender','Country',\"Income\"]\n"
   ]
  },
  {
   "cell_type": "markdown",
   "metadata": {},
   "source": [
    "## Identify Outliers\n",
    "\n",
    "Below we are introducing the box plot to identify the outliers, and strike a comparison between the quartiles.\n",
    "Observed variables:\n",
    "    1) Weekly working hours\n",
    "    2) Age"
   ]
  },
  {
   "cell_type": "code",
   "execution_count": 15,
   "metadata": {},
   "outputs": [
    {
     "data": {
      "text/plain": [
       "<AxesSubplot:xlabel='Weekly_Working_Hrs'>"
      ]
     },
     "execution_count": 15,
     "metadata": {},
     "output_type": "execute_result"
    },
    {
     "data": {
      "image/png": "[encoded data removed]",
      "text/plain": [
       "<Figure size 432x288 with 1 Axes>"
      ]
     },
     "metadata": {
      "needs_background": "light"
     },
     "output_type": "display_data"
    }
   ],
   "source": [
    "#Detect Outliers Weekly hours worked\n",
    "sns.boxplot(df['Weekly_Working_Hrs'])\n"
   ]
  },
  {
   "cell_type": "code",
   "execution_count": 16,
   "metadata": {},
   "outputs": [
    {
     "data": {
      "text/plain": [
       "<AxesSubplot:xlabel='Age'>"
      ]
     },
     "execution_count": 16,
     "metadata": {},
     "output_type": "execute_result"
    },
    {
     "data": {
      "image/png": "[encoded data removed]",
      "text/plain": [
       "<Figure size 432x288 with 1 Axes>"
      ]
     },
     "metadata": {
      "needs_background": "light"
     },
     "output_type": "display_data"
    }
   ],
   "source": [
    "#Detect Outliers Age\n",
    "sns.boxplot(df['Age'])"
   ]
  },
  {
   "cell_type": "markdown",
   "metadata": {},
   "source": [
    "## Handling Duplicates\n",
    "\n",
    "Identifying duplicate entries in the dataset and removing them."
   ]
  },
  {
   "cell_type": "code",
   "execution_count": 7,
   "metadata": {},
   "outputs": [
    {
     "name": "stdout",
     "output_type": "stream",
     "text": [
      "There are Zero duplicates in the data\n",
      "2444 duplicate rows are deleted.\n",
      "The DataFrame has 24065 rows and 13 columns after dropping the duplicates.\n"
     ]
    }
   ],
   "source": [
    "#Note: In hindsight this section of code is dangerous, deleting the dataset is like tempering with evidence.\n",
    "#Note: I have left the code here, however commnented this out after my own code review.\n",
    "\n",
    "#Check, sum and drop duplicated rows\n",
    "# if df.duplicated().sum()>0:\n",
    "#     print(\"There are \"+str(df.duplicated().sum())+\" duplicate rows in the input dataset and has to be deleted.\")\n",
    "# else:\n",
    "#     print(\"There are Zero duplicates in the data\")\n",
    "    \n",
    "# df = df.drop_duplicates()\n",
    "# print(str(df_len-len(df))+ \" duplicate rows are deleted.\")\n",
    "# print(\"The DataFrame has\",df.shape[0],\"rows and\",df.shape[1],\"columns after dropping the duplicates.\")\n"
   ]
  },
  {
   "cell_type": "markdown",
   "metadata": {},
   "source": [
    "# Missing Value Treatment\n",
    "\n",
    "We check if we have any standard missing values and remove them from the dataset.\n",
    "Here, we confirm whether there aren't any custom missing values by displaying the head and tail, and imputing that."
   ]
  },
  {
   "cell_type": "code",
   "execution_count": 25,
   "metadata": {},
   "outputs": [
    {
     "name": "stdout",
     "output_type": "stream",
     "text": [
      "\n",
      " There are no standard missing Values in the data. \n",
      "\n",
      "<class 'pandas.core.frame.DataFrame'>\n",
      "RangeIndex: 26527 entries, 0 to 26526\n",
      "Data columns (total 13 columns):\n",
      " #   Column                   Non-Null Count  Dtype \n",
      "---  ------                   --------------  ----- \n",
      " 0   Age                      26527 non-null  int64 \n",
      " 1   Job_Occupation           26527 non-null  object\n",
      " 2   Employment_Type          26527 non-null  object\n",
      " 3   Weekly_Working_Hrs       26527 non-null  int64 \n",
      " 4   Gain_loss                26527 non-null  int64 \n",
      " 5   Education                26527 non-null  object\n",
      " 6   Completed_Yrs_Education  26527 non-null  int64 \n",
      " 7   Marital_Status           26527 non-null  object\n",
      " 8   Rel_Title                26527 non-null  object\n",
      " 9   Race                     26527 non-null  object\n",
      " 10  Gender                   26527 non-null  object\n",
      " 11  Country                  26527 non-null  object\n",
      " 12  Income                   26527 non-null  object\n",
      "dtypes: int64(4), object(9)\n",
      "memory usage: 2.6+ MB\n",
      "None\n"
     ]
    }
   ],
   "source": [
    "#Check where null values exist\n",
    "if df.isnull().sum().sum() == 0:\n",
    "    print(\"\\n There are no standard missing Values in the data. \\n\")\n",
    "else:\n",
    "    print(\"There are \"+str(df.isnull().sum().sum())+\" missing values in the input data\")\n",
    "print(df.info())    \n"
   ]
  },
  {
   "cell_type": "code",
   "execution_count": 34,
   "metadata": {},
   "outputs": [
    {
     "name": "stdout",
     "output_type": "stream",
     "text": [
      "    Age      Job_Occupation    Employment_Type  Weekly_Working_Hrs  Gain_loss  \\\n",
      "0    49        Craft-repair            Private                  40       7298   \n",
      "1    28      Prof-specialty          Local-gov                  40       7298   \n",
      "2    31   Handlers-cleaners            Private                  40          0   \n",
      "3    21        Craft-repair            Private                  40          0   \n",
      "4    22        Adm-clerical            Private                  20          0   \n",
      "5    42     Exec-managerial   Self-emp-not-inc                  48          0   \n",
      "6    53        Craft-repair            Private                  40          0   \n",
      "7    53               Sales   Self-emp-not-inc                  40          0   \n",
      "8    60        Adm-clerical            Private                  37          0   \n",
      "9    19               Sales   Self-emp-not-inc                  16          0   \n",
      "10   63       Other-service            Private                  40          0   \n",
      "11   49     Exec-managerial            Private                  60      27828   \n",
      "12   27       Other-service        Federal-gov                  40          0   \n",
      "13   19               Sales            Private                  30          0   \n",
      "14   40    Transport-moving            Private                  40          0   \n",
      "15   41     Exec-managerial            Private                  60      -1902   \n",
      "16   19     Exec-managerial            Private                  30          0   \n",
      "17   28        Adm-clerical            Private                  40          0   \n",
      "18   45        Craft-repair            Private                  40          0   \n",
      "19   30        Adm-clerical          State-gov                  40      -1902   \n",
      "20   24      Prof-specialty            Private                  20          0   \n",
      "21   47     Farming-fishing            Private                  65          0   \n",
      "22   29        Adm-clerical            Private                  60          0   \n",
      "23   35   Handlers-cleaners            Private                  40          0   \n",
      "24   28        Tech-support            Private                  40          0   \n",
      "25   33        Tech-support          Local-gov                  50          0   \n",
      "26   17     Farming-fishing          State-gov                  40          0   \n",
      "27   45   Machine-op-inspct            Private                  45          0   \n",
      "28   40     Exec-managerial            Private                  40          0   \n",
      "29   30        Craft-repair   Self-emp-not-inc                  50      99999   \n",
      "30   57     Exec-managerial            Private                  40          0   \n",
      "31   23    Transport-moving            Private                  38          0   \n",
      "32   56        Craft-repair            Private                  45          0   \n",
      "33   59      Prof-specialty            Private                  50          0   \n",
      "34   22        Craft-repair       Self-emp-inc                  40          0   \n",
      "35   72      Prof-specialty       Self-emp-inc                  50      99999   \n",
      "36   29        Craft-repair            Private                  45       3411   \n",
      "37   69       Other-service       Self-emp-inc                  40          0   \n",
      "38   41        Craft-repair            Private                  72          0   \n",
      "39   36     Exec-managerial            Private                  50       4650   \n",
      "40   57        Tech-support            Private                  40      -1887   \n",
      "41   21        Tech-support            Private                  25          0   \n",
      "42   70       Other-service   Self-emp-not-inc                  20       2329   \n",
      "43   25               Sales            Private                  40          0   \n",
      "44   47        Craft-repair        Federal-gov                  40          0   \n",
      "45   32        Craft-repair   Self-emp-not-inc                  55          0   \n",
      "46   44        Tech-support          Local-gov                  40      -1340   \n",
      "47   40      Prof-specialty          Local-gov                  48          0   \n",
      "48   29        Adm-clerical            Private                  40          0   \n",
      "49   41     Exec-managerial            Private                  50      27828   \n",
      "\n",
      "        Education  Completed_Yrs_Education       Marital_Status  \\\n",
      "0         HS-grad                        9   Married-civ-spouse   \n",
      "1         Masters                       14   Married-civ-spouse   \n",
      "2         HS-grad                        9   Married-civ-spouse   \n",
      "3         HS-grad                        9        Never-married   \n",
      "4    Some-college                       10        Never-married   \n",
      "5         HS-grad                        9        Never-married   \n",
      "6            10th                        6   Married-civ-spouse   \n",
      "7       Bachelors                       13   Married-civ-spouse   \n",
      "8         HS-grad                        9             Divorced   \n",
      "9    Some-college                       10        Never-married   \n",
      "10   Some-college                       10             Divorced   \n",
      "11      Bachelors                       13             Divorced   \n",
      "12        HS-grad                        9   Married-civ-spouse   \n",
      "13   Some-college                       10        Never-married   \n",
      "14   Some-college                       10             Divorced   \n",
      "15      Bachelors                       13   Married-civ-spouse   \n",
      "16   Some-college                       10        Never-married   \n",
      "17        HS-grad                        9        Never-married   \n",
      "18        HS-grad                        9        Never-married   \n",
      "19        HS-grad                        9   Married-civ-spouse   \n",
      "20     Assoc-acdm                       12        Never-married   \n",
      "21      Bachelors                       13   Married-civ-spouse   \n",
      "22        HS-grad                        9        Never-married   \n",
      "23        HS-grad                        9   Married-civ-spouse   \n",
      "24      Bachelors                       13   Married-civ-spouse   \n",
      "25      Assoc-voc                       11   Married-civ-spouse   \n",
      "26           10th                        6        Never-married   \n",
      "27        HS-grad                        9   Married-civ-spouse   \n",
      "28    Prof-school                       15        Never-married   \n",
      "29        HS-grad                        9        Never-married   \n",
      "30      Bachelors                       13   Married-civ-spouse   \n",
      "31        HS-grad                        9        Never-married   \n",
      "32      Assoc-voc                       11   Married-civ-spouse   \n",
      "33      Doctorate                       16   Married-civ-spouse   \n",
      "34   Some-college                       10   Married-civ-spouse   \n",
      "35    Prof-school                       15   Married-civ-spouse   \n",
      "36      Bachelors                       13   Married-civ-spouse   \n",
      "37        HS-grad                        9   Married-civ-spouse   \n",
      "38        HS-grad                        9   Married-civ-spouse   \n",
      "39           12th                        8        Never-married   \n",
      "40        HS-grad                        9   Married-civ-spouse   \n",
      "41   Some-college                       10        Never-married   \n",
      "42        HS-grad                        9              Widowed   \n",
      "43        HS-grad                        9   Married-civ-spouse   \n",
      "44        HS-grad                        9   Married-civ-spouse   \n",
      "45   Some-college                       10   Married-civ-spouse   \n",
      "46      Assoc-voc                       11        Never-married   \n",
      "47      Bachelors                       13   Married-civ-spouse   \n",
      "48   Some-college                       10        Never-married   \n",
      "49        Masters                       14        Never-married   \n",
      "\n",
      "          Rel_Title    Race   Gender           Country  Income  \n",
      "0           Husband   White     Male     United-States    >50K  \n",
      "1              Wife   White   Female     United-States    >50K  \n",
      "2           Husband   White     Male     United-States   <=50K  \n",
      "3         Own-child   Black     Male     United-States   <=50K  \n",
      "4         Own-child   White   Female     United-States   <=50K  \n",
      "5     Not-in-family   White     Male     United-States   <=50K  \n",
      "6           Husband   Black     Male     United-States   <=50K  \n",
      "7           Husband   White     Male            Canada    >50K  \n",
      "8         Unmarried   White   Female     United-States   <=50K  \n",
      "9         Own-child   White   Female     United-States   <=50K  \n",
      "10    Not-in-family   White     Male     United-States   <=50K  \n",
      "11    Not-in-family   Black   Female     United-States    >50K  \n",
      "12          Husband   White     Male     United-States   <=50K  \n",
      "13        Own-child   White   Female     United-States   <=50K  \n",
      "14    Not-in-family   Black   Female     United-States   <=50K  \n",
      "15          Husband   White     Male     United-States    >50K  \n",
      "16        Own-child   Black     Male     United-States   <=50K  \n",
      "17    Not-in-family   White     Male     United-States   <=50K  \n",
      "18        Own-child   White     Male     United-States   <=50K  \n",
      "19          Husband   White     Male     United-States   <=50K  \n",
      "20        Own-child   Black     Male     United-States   <=50K  \n",
      "21          Husband   White     Male     United-States   <=50K  \n",
      "22        Own-child   Black   Female     United-States   <=50K  \n",
      "23          Husband   White     Male     United-States   <=50K  \n",
      "24          Husband   White     Male     United-States   <=50K  \n",
      "25          Husband   White     Male     United-States   <=50K  \n",
      "26        Own-child   White     Male     United-States   <=50K  \n",
      "27          Husband   White     Male     United-States    >50K  \n",
      "28    Not-in-family   White   Female              Cuba   <=50K  \n",
      "29    Not-in-family   White     Male     United-States    >50K  \n",
      "30             Wife   White   Female     United-States   <=50K  \n",
      "31    Not-in-family   White     Male     United-States   <=50K  \n",
      "32          Husband   White     Male     United-States    >50K  \n",
      "33          Husband   White     Male     United-States    >50K  \n",
      "34          Husband   White     Male     United-States   <=50K  \n",
      "35          Husband   White     Male     United-States    >50K  \n",
      "36          Husband   White     Male     United-States   <=50K  \n",
      "37          Husband   White     Male     United-States    >50K  \n",
      "38          Husband   White     Male     United-States    >50K  \n",
      "39    Not-in-family   White     Male     United-States   <=50K  \n",
      "40          Husband   Black     Male   Trinadad&Tobago    >50K  \n",
      "41        Own-child   White   Female           Ecuador   <=50K  \n",
      "42   Other-relative   White   Female     United-States   <=50K  \n",
      "43          Husband   White     Male     United-States   <=50K  \n",
      "44          Husband   White     Male     United-States   <=50K  \n",
      "45          Husband   White     Male     United-States    >50K  \n",
      "46    Not-in-family   White     Male     United-States   <=50K  \n",
      "47          Husband   White     Male     United-States   <=50K  \n",
      "48    Not-in-family   White   Female     United-States   <=50K  \n",
      "49    Not-in-family   White     Male     United-States    >50K  \n",
      "       Age      Job_Occupation    Employment_Type  Weekly_Working_Hrs  \\\n",
      "26477   27        Adm-clerical            Private                  40   \n",
      "26478   45   Handlers-cleaners            Private                  37   \n",
      "26479   18                   ?                  ?                  20   \n",
      "26480   32        Tech-support            Private                  40   \n",
      "26481   46        Adm-clerical            Private                  45   \n",
      "26482   60        Adm-clerical            Private                  40   \n",
      "26483   26               Sales            Private                  40   \n",
      "26484   51    Transport-moving          Local-gov                  40   \n",
      "26485   36        Tech-support            Private                  40   \n",
      "26486   30      Prof-specialty            Private                  20   \n",
      "26487   29       Other-service            Private                  40   \n",
      "26488   30     Exec-managerial            Private                  42   \n",
      "26489   31        Tech-support            Private                  44   \n",
      "26490   20       Other-service            Private                  40   \n",
      "26491   50     Exec-managerial            Private                  50   \n",
      "26492   51    Transport-moving   Self-emp-not-inc                  50   \n",
      "26493   61       Other-service   Self-emp-not-inc                  40   \n",
      "26494   44               Sales            Private                  44   \n",
      "26495   54      Prof-specialty          Local-gov                  40   \n",
      "26496   38                   ?                  ?                  35   \n",
      "26497   19        Adm-clerical            Private                  20   \n",
      "26498   43        Adm-clerical          State-gov                  40   \n",
      "26499   41     Farming-fishing   Self-emp-not-inc                  50   \n",
      "26500   47      Prof-specialty            Private                  70   \n",
      "26501   18      Prof-specialty            Private                  20   \n",
      "26502   47                   ?                  ?                  36   \n",
      "26503   28        Adm-clerical          Local-gov                  60   \n",
      "26504   28       Other-service            Private                  40   \n",
      "26505   29     Protective-serv          Local-gov                  45   \n",
      "26506   18                   ?                  ?                  25   \n",
      "26507   43        Craft-repair   Self-emp-not-inc                  40   \n",
      "26508   46      Prof-specialty            Private                  40   \n",
      "26509   26        Craft-repair            Private                  40   \n",
      "26510   26      Prof-specialty            Private                  40   \n",
      "26511   77     Priv-house-serv            Private                  20   \n",
      "26512   41     Exec-managerial            Private                  60   \n",
      "26513   33     Exec-managerial            Private                  40   \n",
      "26514   36     Exec-managerial            Private                  50   \n",
      "26515   48        Craft-repair   Self-emp-not-inc                  40   \n",
      "26516   57               Sales   Self-emp-not-inc                  45   \n",
      "26517   25       Other-service   Self-emp-not-inc                  32   \n",
      "26518   53     Farming-fishing            Private                  10   \n",
      "26519   34       Other-service            Private                  40   \n",
      "26520   17               Sales            Private                  20   \n",
      "26521   24     Exec-managerial            Private                  40   \n",
      "26522   29        Adm-clerical        Federal-gov                  40   \n",
      "26523   22     Farming-fishing   Self-emp-not-inc                  20   \n",
      "26524   31        Tech-support            Private                  40   \n",
      "26525   61   Handlers-cleaners          Local-gov                  40   \n",
      "26526   90        Craft-repair        Federal-gov                  30   \n",
      "\n",
      "       Gain_loss      Education  Completed_Yrs_Education       Marital_Status  \\\n",
      "26477          0      Assoc-voc                       11             Divorced   \n",
      "26478          0      Bachelors                       13   Married-civ-spouse   \n",
      "26479          0        HS-grad                        9        Never-married   \n",
      "26480          0      Bachelors                       13        Never-married   \n",
      "26481          0        HS-grad                        9             Divorced   \n",
      "26482          0        HS-grad                        9   Married-civ-spouse   \n",
      "26483       2885        HS-grad                        9   Married-civ-spouse   \n",
      "26484          0        HS-grad                        9   Married-civ-spouse   \n",
      "26485          0     Assoc-acdm                       12        Never-married   \n",
      "26486          0      Doctorate                       16        Never-married   \n",
      "26487          0        HS-grad                        9        Never-married   \n",
      "26488          0      Bachelors                       13        Never-married   \n",
      "26489          0     Assoc-acdm                       12             Divorced   \n",
      "26490          0   Some-college                       10        Never-married   \n",
      "26491      99999   Some-college                       10   Married-civ-spouse   \n",
      "26492          0        HS-grad                        9   Married-civ-spouse   \n",
      "26493          0           11th                        7   Married-civ-spouse   \n",
      "26494          0           11th                        7             Divorced   \n",
      "26495          0   Some-college                       10        Never-married   \n",
      "26496          0        HS-grad                        9   Married-civ-spouse   \n",
      "26497          0        HS-grad                        9        Never-married   \n",
      "26498          0   Some-college                       10             Divorced   \n",
      "26499       7688   Some-college                       10   Married-civ-spouse   \n",
      "26500          0   Some-college                       10   Married-civ-spouse   \n",
      "26501          0           11th                        7        Never-married   \n",
      "26502          0      Bachelors                       13   Married-civ-spouse   \n",
      "26503       4101      Bachelors                       13        Never-married   \n",
      "26504          0   Some-college                       10        Never-married   \n",
      "26505          0        HS-grad                        9        Never-married   \n",
      "26506          0   Some-college                       10        Never-married   \n",
      "26507          0        HS-grad                        9   Married-civ-spouse   \n",
      "26508          0    Prof-school                       15             Divorced   \n",
      "26509          0        HS-grad                        9   Married-civ-spouse   \n",
      "26510          0     Assoc-acdm                       12        Never-married   \n",
      "26511          0   Some-college                       10              Widowed   \n",
      "26512          0      Bachelors                       13   Married-civ-spouse   \n",
      "26513          0      Bachelors                       13        Never-married   \n",
      "26514          0     Assoc-acdm                       12   Married-civ-spouse   \n",
      "26515          0        HS-grad                        9   Married-civ-spouse   \n",
      "26516      99999   Some-college                       10   Married-civ-spouse   \n",
      "26517          0        HS-grad                        9        Never-married   \n",
      "26518          0        HS-grad                        9        Never-married   \n",
      "26519          0           10th                        6        Never-married   \n",
      "26520          0           10th                        6        Never-married   \n",
      "26521          0      Bachelors                       13        Never-married   \n",
      "26522          0   Some-college                       10   Married-civ-spouse   \n",
      "26523          0   Some-college                       10        Never-married   \n",
      "26524          0      Assoc-voc                       11             Divorced   \n",
      "26525          0        HS-grad                        9   Married-civ-spouse   \n",
      "26526          0        HS-grad                        9   Married-civ-spouse   \n",
      "\n",
      "             Rel_Title                 Race   Gender         Country  Income  \n",
      "26477        Unmarried                White   Female   United-States   <=50K  \n",
      "26478          Husband                White     Male   United-States   <=50K  \n",
      "26479        Own-child                White   Female   United-States   <=50K  \n",
      "26480    Not-in-family                White     Male   United-States   <=50K  \n",
      "26481        Unmarried                White   Female   United-States   <=50K  \n",
      "26482          Husband                White     Male   United-States   <=50K  \n",
      "26483          Husband                White     Male   United-States   <=50K  \n",
      "26484          Husband   Amer-Indian-Eskimo     Male   United-States   <=50K  \n",
      "26485    Not-in-family                White   Female   United-States   <=50K  \n",
      "26486        Own-child                White     Male   United-States   <=50K  \n",
      "26487   Other-relative                White   Female   United-States   <=50K  \n",
      "26488    Not-in-family                White     Male   United-States   <=50K  \n",
      "26489    Not-in-family                White   Female   United-States   <=50K  \n",
      "26490        Own-child                White     Male   United-States   <=50K  \n",
      "26491          Husband                White     Male   United-States    >50K  \n",
      "26492          Husband                White     Male   United-States   <=50K  \n",
      "26493          Husband                White     Male   United-States   <=50K  \n",
      "26494        Unmarried                White   Female   United-States   <=50K  \n",
      "26495    Not-in-family                White   Female          Mexico   <=50K  \n",
      "26496             Wife                White   Female   United-States   <=50K  \n",
      "26497        Own-child                White   Female   United-States   <=50K  \n",
      "26498    Not-in-family                Black   Female   United-States   <=50K  \n",
      "26499          Husband                White     Male   United-States    >50K  \n",
      "26500          Husband                White     Male   United-States   <=50K  \n",
      "26501        Own-child                White     Male   United-States   <=50K  \n",
      "26502          Husband                White     Male   United-States    >50K  \n",
      "26503    Not-in-family                Black   Female   United-States   <=50K  \n",
      "26504    Not-in-family                White   Female   United-States   <=50K  \n",
      "26505        Unmarried                White     Male   United-States   <=50K  \n",
      "26506        Own-child                White   Female   United-States   <=50K  \n",
      "26507          Husband                White     Male   United-States   <=50K  \n",
      "26508        Unmarried                White   Female   United-States   <=50K  \n",
      "26509          Husband                White     Male   United-States   <=50K  \n",
      "26510    Not-in-family                White   Female   United-States   <=50K  \n",
      "26511    Not-in-family                White   Female   United-States   <=50K  \n",
      "26512          Husband                White     Male   United-States    >50K  \n",
      "26513    Not-in-family   Asian-Pac-Islander     Male               ?   <=50K  \n",
      "26514             Wife                White   Female   United-States    >50K  \n",
      "26515          Husband                White     Male   United-States    >50K  \n",
      "26516          Husband                White     Male   United-States    >50K  \n",
      "26517   Other-relative                White     Male   United-States   <=50K  \n",
      "26518    Not-in-family                White     Male   United-States   <=50K  \n",
      "26519        Unmarried                Black   Female   United-States   <=50K  \n",
      "26520        Own-child                White   Female   United-States   <=50K  \n",
      "26521    Not-in-family                White     Male   United-States   <=50K  \n",
      "26522          Husband                White     Male   United-States    >50K  \n",
      "26523        Own-child                White     Male   United-States   <=50K  \n",
      "26524        Unmarried                White   Female   United-States   <=50K  \n",
      "26525          Husband                White     Male   United-States   <=50K  \n",
      "26526          Husband                White     Male   United-States   <=50K  \n"
     ]
    }
   ],
   "source": [
    "#Print the data and identify encoded missing values\n",
    "\n",
    "#Head\n",
    "print(df.head(n=50))\n",
    "\n",
    "#Tail\n",
    "print(df.tail(n=50))"
   ]
  },
  {
   "cell_type": "code",
   "execution_count": 10,
   "metadata": {},
   "outputs": [],
   "source": [
    "#Treat missing values\n",
    "\n",
    "df[df== ' ?'] = np.nan\n",
    "\n",
    "#handling the missing values by replacing them with MODE\n",
    "for col in ['Job_Occupation', 'Employment_Type', 'Country']:\n",
    "    df[col].fillna(df[col].mode()[0], inplace = True)"
   ]
  },
  {
   "cell_type": "markdown",
   "metadata": {},
   "source": [
    "## Create Bins\n",
    "Here we drop variables that will not be included in the data as bins. We create bins to include in the trained feature files.\n",
    "Variables for which bins are created:\n",
    "    \n",
    "    1) Age\n",
    "    2) Weekly working hours\n",
    "\n",
    "Variables to exclude:\n",
    "    1) Gain Loss\n",
    "\n"
   ]
  },
  {
   "cell_type": "code",
   "execution_count": 35,
   "metadata": {},
   "outputs": [],
   "source": [
    "#Creating quantile for Age\n",
    "ageQ = np.percentile(df.Age, [25, 50, 75, 100])\n",
    "\n",
    "#Create Age Bin\n",
    "df[\"Age_Bin\"] = df.loc[ : , \"Age\"]\n",
    "\n",
    "#Iterate through the Age and assign that to a bin\n",
    "for index, row in df.iterrows():\n",
    "    \n",
    "    age = row['Age_Bin'];\n",
    "    \n",
    "    if age <= ageQ[0]:\n",
    "        \n",
    "        df.at[index, 'Age_Bin'] = 0\n",
    "        \n",
    "    elif age > ageQ[0] and age < ageQ[1]:\n",
    "        \n",
    "        df.at[index, 'Age_Bin'] = 1\n",
    "        \n",
    "    elif age >= ageQ[1] and age < ageQ[2]:\n",
    "        \n",
    "        df.at[index, 'Age_Bin'] = 2\n",
    "        \n",
    "    elif age >= ageQ[2]:\n",
    "        \n",
    "        df.at[index, 'Age_Bin'] = 3\n",
    "        \n",
    "  "
   ]
  },
  {
   "cell_type": "code",
   "execution_count": 36,
   "metadata": {},
   "outputs": [],
   "source": [
    "#Create Weekly hour Bin\n",
    "df[\"Weekly_Working_Hrs_Bin\"] = df.loc[ : , \"Weekly_Working_Hrs\"]"
   ]
  },
  {
   "cell_type": "code",
   "execution_count": 37,
   "metadata": {},
   "outputs": [],
   "source": [
    "#Creating quantile for working hours\n",
    "\n",
    "workHourQ = np.percentile(df.Weekly_Working_Hrs, [20, 50, 75, 100])\n",
    "\n",
    "for index, row in df.iterrows():\n",
    "    \n",
    "    age = row['Weekly_Working_Hrs_Bin'];\n",
    "    \n",
    "    if age <= workHourQ[0]:\n",
    "        \n",
    "        df.at[index, 'Weekly_Working_Hrs_Bin'] = 0\n",
    "        \n",
    "    elif age > workHourQ[0] and age < workHourQ[1]:\n",
    "        \n",
    "        df.at[index, 'Weekly_Working_Hrs_Bin'] = 1\n",
    "        \n",
    "    elif age >= workHourQ[1] and age < workHourQ[2]:\n",
    "        \n",
    "        df.at[index, 'Weekly_Working_Hrs_Bin'] = 2\n",
    "        \n",
    "    elif age >= workHourQ[2]:\n",
    "        \n",
    "        df.at[index, 'Weekly_Working_Hrs_Bin'] = 3\n",
    "\n"
   ]
  },
  {
   "cell_type": "code",
   "execution_count": 38,
   "metadata": {},
   "outputs": [],
   "source": [
    "#Drop the variable after transformation\n",
    "df.drop('Weekly_Working_Hrs',axis=1,inplace=True)\n"
   ]
  },
  {
   "cell_type": "code",
   "execution_count": 39,
   "metadata": {},
   "outputs": [],
   "source": [
    "#Drop the variable after transformation\n",
    "df.drop('Gain_loss',axis=1,inplace=True)"
   ]
  },
  {
   "cell_type": "markdown",
   "metadata": {},
   "source": [
    "## Confirm Correlation and Transformation \n",
    "Here we confirm the correlation between Age, Completed Years of Education and the bins.\n",
    "We also make sure that we transform variables that are to be referred to as binary."
   ]
  },
  {
   "cell_type": "code",
   "execution_count": 40,
   "metadata": {},
   "outputs": [
    {
     "data": {
      "text/html": [
       "<div>\n",
       "<style scoped>\n",
       "    .dataframe tbody tr th:only-of-type {\n",
       "        vertical-align: middle;\n",
       "    }\n",
       "\n",
       "    .dataframe tbody tr th {\n",
       "        vertical-align: top;\n",
       "    }\n",
       "\n",
       "    .dataframe thead th {\n",
       "        text-align: right;\n",
       "    }\n",
       "</style>\n",
       "<table border=\"1\" class=\"dataframe\">\n",
       "  <thead>\n",
       "    <tr style=\"text-align: right;\">\n",
       "      <th></th>\n",
       "      <th>Age</th>\n",
       "      <th>Completed_Yrs_Education</th>\n",
       "      <th>Age_Bin</th>\n",
       "      <th>Weekly_Working_Hrs_Bin</th>\n",
       "    </tr>\n",
       "  </thead>\n",
       "  <tbody>\n",
       "    <tr>\n",
       "      <th>Age</th>\n",
       "      <td>1.00</td>\n",
       "      <td>0.05</td>\n",
       "      <td>0.93</td>\n",
       "      <td>0.10</td>\n",
       "    </tr>\n",
       "    <tr>\n",
       "      <th>Completed_Yrs_Education</th>\n",
       "      <td>0.05</td>\n",
       "      <td>1.00</td>\n",
       "      <td>0.06</td>\n",
       "      <td>0.15</td>\n",
       "    </tr>\n",
       "    <tr>\n",
       "      <th>Age_Bin</th>\n",
       "      <td>0.93</td>\n",
       "      <td>0.06</td>\n",
       "      <td>1.00</td>\n",
       "      <td>0.15</td>\n",
       "    </tr>\n",
       "    <tr>\n",
       "      <th>Weekly_Working_Hrs_Bin</th>\n",
       "      <td>0.10</td>\n",
       "      <td>0.15</td>\n",
       "      <td>0.15</td>\n",
       "      <td>1.00</td>\n",
       "    </tr>\n",
       "  </tbody>\n",
       "</table>\n",
       "</div>"
      ],
      "text/plain": [
       "                          Age  Completed_Yrs_Education  Age_Bin  \\\n",
       "Age                      1.00                     0.05     0.93   \n",
       "Completed_Yrs_Education  0.05                     1.00     0.06   \n",
       "Age_Bin                  0.93                     0.06     1.00   \n",
       "Weekly_Working_Hrs_Bin   0.10                     0.15     0.15   \n",
       "\n",
       "                         Weekly_Working_Hrs_Bin  \n",
       "Age                                        0.10  \n",
       "Completed_Yrs_Education                    0.15  \n",
       "Age_Bin                                    0.15  \n",
       "Weekly_Working_Hrs_Bin                     1.00  "
      ]
     },
     "execution_count": 40,
     "metadata": {},
     "output_type": "execute_result"
    }
   ],
   "source": [
    "# linear (Pearson) correlation\n",
    "df.corr(method = 'pearson').round(decimals = 2)"
   ]
  },
  {
   "cell_type": "code",
   "execution_count": 41,
   "metadata": {},
   "outputs": [],
   "source": [
    "#Introduce Categorical variables\n",
    "df[\"Income_>50k\"] = df.loc[ : , \"Income\"]"
   ]
  },
  {
   "cell_type": "code",
   "execution_count": 42,
   "metadata": {},
   "outputs": [],
   "source": [
    "# Converting the Income columns into Binary\n",
    "df.loc[df[\"Income_>50k\"] == \" <=50K\" , \"Income_>50k\"] = 0\n",
    "df.loc[df[\"Income_>50k\"] == \" >50K\" , \"Income_>50k\"] = 1"
   ]
  },
  {
   "cell_type": "code",
   "execution_count": 43,
   "metadata": {},
   "outputs": [],
   "source": [
    "#Drop the variable after transformation\n",
    "df.drop('Income',axis=1,inplace=True)"
   ]
  },
  {
   "cell_type": "code",
   "execution_count": 44,
   "metadata": {},
   "outputs": [],
   "source": [
    "#Drop the variable after transformation\n",
    "df.drop('Gender',axis=1,inplace=True)"
   ]
  },
  {
   "cell_type": "markdown",
   "metadata": {},
   "source": [
    "## Categorization\n",
    "In this section we are categorizing the variables that have been identified to contain categories in their features.\n",
    "Once the categories are in place, we check for distinct values for confirmation."
   ]
  },
  {
   "cell_type": "code",
   "execution_count": 45,
   "metadata": {},
   "outputs": [],
   "source": [
    "df.loc[:,'Country']\n",
    "\n",
    "#Assign Binary columns\n",
    "df[\"Continent\"] = df.loc[ : , \"Country\"]\n",
    "\n",
    "#Categorizing countries into continents\n",
    "\n",
    "#Create Dictionary per continent\n",
    "Continent_map = {\n",
    "  \"Italy\": \"Europe\",\n",
    "  \"England\": \"Europe\",\n",
    "  \"Ireland\": \"Europe\",\n",
    "  \"Greece\": \"Europe\",\n",
    "  \"Poland\": \"Europe\",\n",
    "  \"Italy\": \"Europe\",\n",
    "  \"Scotland\": \"Europe\",\n",
    "  \"Germany\": \"Europe\",\n",
    "  \"Yugoslavia\": \"Europe\",\n",
    "  \"Portugal\": \"Europe\",\n",
    "  \"Hungary\": \"Europe\",\n",
    "  \"Holand-Netherlands\": \"Europe\",\n",
    "  \"France\": \"Europe\",\n",
    "  \"Thailand\": \"Asia\",\n",
    "  \"Hong Kong\": \"Asia\",\n",
    "  \"Cambodia\": \"Asia\",\n",
    "  \"India\": \"Asia\",\n",
    "  \"Indonesia\": \"Asia\",\n",
    "  \"Laos\": \"Asia\",\n",
    "  \"Pakistan\": \"Asia\",\n",
    "  \"Bangladesh\": \"Asia\",\n",
    "  \"South Korea\": \"Asia\",\n",
    "  \"Japan\": \"Asia\",\n",
    "  \"Philippines\": \"Asia\",\n",
    "  \"Vietnam\": \"Asia\",\n",
    "  \"Taiwan\": \"Asia\",\n",
    "  \"Iran\": \"Asia\",\n",
    "  \"China\": \"Asia\",\n",
    "  \"Vietnam\": \"Asia\",\n",
    "  \"United States\": \"North America\",\n",
    "  \"Canada\": \"North America\",\n",
    "  \"Mexico\": \"Latin America and Caribbean\",\n",
    "  \"Colombia\": \"Latin America and Caribbean\",\n",
    "  \"Guatemala\": \"Latin America and Caribbean\",\n",
    "  \"Canada\": \"Latin America and Caribbean\",\n",
    "  \"El-Salvador\": \"Latin America and Caribbean\",\n",
    "  \"Jamaica\": \"Latin America and Caribbean\",\n",
    "  \"Peru\": \"Latin America and Caribbean\",\n",
    "  \"Columbia\": \"Latin America and Caribbean\",\n",
    "  \"Dominican-Republic\": \"Latin America and Caribbean\",\n",
    "  \"Puerto-Rico\": \"Latin America and Caribbean\",\n",
    "  \"Trinadad&Tobago\": \"Latin America and Caribbean\",\n",
    "  \"Cuba\": \"Latin America and Caribbean\",\n",
    "  \"Ecuador\": \"Latin America and Caribbean\",\n",
    "  \"Nicaragua\": \"Latin America and Caribbean\",\n",
    "  \"Haiti\": \"Latin America and Caribbean\",\n",
    "  \"Honduras\": \"Latin America and Caribbean\",\n",
    "  \"South Africa\": \"Africa\",\n",
    "  \"Gabon\": \"Africa\",\n",
    "  \"Nigeria\": \"Africa\",\n",
    "  \"Australia\": \"Oceania\",\n",
    "  \"Fji\": \"Oceania\"\n",
    "}\n",
    "\n",
    "#Iterate through the countries categorize them\n",
    "for index, row in df.iterrows():\n",
    "    \n",
    "    country = row['Continent'].strip(); #set the country to categorize\n",
    "    #print(\"country: \", country)\n",
    "    if country in Continent_map.keys():\n",
    "        \n",
    "        df.at[index, 'Continent'] = Continent_map[country]\n",
    "        \n",
    "    else:\n",
    "        continue\n",
    "\n",
    "#Drop the variable after transformation\n",
    "df.drop('Country',axis=1,inplace=True)"
   ]
  },
  {
   "cell_type": "code",
   "execution_count": 46,
   "metadata": {},
   "outputs": [
    {
     "name": "stdout",
     "output_type": "stream",
     "text": [
      " United-States                 23807\n",
      "Latin America and Caribbean     1210\n",
      "Asia                             532\n",
      " ?                               469\n",
      "Europe                           412\n",
      " South                            69\n",
      " Hong                             15\n",
      " Outlying-US(Guam-USVI-etc)       13\n",
      "Name: Continent, dtype: int64\n"
     ]
    }
   ],
   "source": [
    "#Check distinct values of continent\n",
    "print(df['Continent'].value_counts())"
   ]
  },
  {
   "cell_type": "code",
   "execution_count": 47,
   "metadata": {},
   "outputs": [],
   "source": [
    "\n",
    "#Create Dictionary per education\n",
    "Education_map = {\n",
    "  \"11th\": \"Until High School\",\n",
    "  \"10th\": \"Until High School\",\n",
    "  \"12th\": \"Until High School\",\n",
    "  \"1st-4th\": \"Until High School\",\n",
    "  \"7th-8th\": \"Until High School\",\n",
    "  \"5th-6th\": \"Until High School\",\n",
    "  \"1st-4th\": \"Until High School\",\n",
    "  \"1st\": \"Until High School\",\n",
    "  \"2nd\": \"Until High School\",\n",
    "  \"3rd\": \"Until High School\",\n",
    "  \"4th\": \"Until High School\",\n",
    "  \"5th\": \"Until High School\",\n",
    "  \"7th\": \"Until High School\",\n",
    "  \"8th\": \"Until High School\",\n",
    "  \"9th\": \"Until High School\",\n",
    "  \"Preschool\": \"Until High School\",\n",
    "  \"HS-grad\": \"Until High School\",\n",
    "  \"Assoc-acdm\": \"UnderGrad\",\n",
    "  \"Assoc-voc\": \"UnderGrad\",\n",
    "  \"Bachelors\": \"UnderGrad\",\n",
    "  \"Some-college\": \"UnderGrad\",\n",
    "  \"Masters\": \"PostGrad\",\n",
    "  \"Doctorate\": \"PostGrad\"\n",
    "}\n",
    "\n",
    "#Iterate through the Education and categorize them\n",
    "for index, row in df.iterrows():\n",
    "    \n",
    "    education = row['Education'].strip(); #set the education to categorize   \n",
    "   \n",
    "    if education in Education_map.keys():\n",
    "    \n",
    "        df.at[index, 'Education'] = Education_map[education]\n",
    "        \n",
    "    else:\n",
    "        continue\n",
    "\n",
    "#Drop the variable after transformation, in this case Completed years of education is echoed in the above categories\n",
    "df.drop('Completed_Yrs_Education',axis=1,inplace=True)"
   ]
  },
  {
   "cell_type": "code",
   "execution_count": 48,
   "metadata": {},
   "outputs": [
    {
     "name": "stdout",
     "output_type": "stream",
     "text": [
      "UnderGrad            12383\n",
      "Until High School    11924\n",
      "PostGrad              1742\n",
      " Prof-school           478\n",
      "Name: Education, dtype: int64\n"
     ]
    }
   ],
   "source": [
    "#Check distinct values of Education\n",
    "print(df['Education'].value_counts())"
   ]
  },
  {
   "cell_type": "code",
   "execution_count": 49,
   "metadata": {},
   "outputs": [],
   "source": [
    "#Create Dictionary per Job Occupation\n",
    "Job_Occupation_map = {\n",
    "  \"Armed-Forces\": \"Security\",\n",
    "  \"Private_Sec\": \"Security\",\n",
    "  \"Protective-serv\": \"Security\",\n",
    "  \"Priv-house-serv\": \"Maintenance\",\n",
    "  \"Handlers-cleaners\": \"Maintenance\",\n",
    "  \"Craft-repair\": \"Maintenance\",\n",
    "  \"Priv-house-serv\": \"Maintenance\",\n",
    "  \"Machine-op-inspct\": \"Maintenance\",\n",
    "  \"Transport-moving\": \"Machinery\",\n",
    "  \"Exec-managerial\": \"Professional\",\n",
    "  \"Prof-specialty\": \"Professional\"\n",
    "}\n",
    "\n",
    "#Iterate through the Education and categorize them\n",
    "for index, row in df.iterrows():\n",
    "    \n",
    "    occupation = row['Job_Occupation'].strip(); #set the occupation to categorize\n",
    "        \n",
    "    if occupation in Job_Occupation_map.keys():\n",
    "        \n",
    "        df.at[index, 'Job_Occupation'] = Job_Occupation_map[occupation]\n",
    "        \n",
    "    else:\n",
    "        continue\n"
   ]
  },
  {
   "cell_type": "code",
   "execution_count": 51,
   "metadata": {},
   "outputs": [
    {
     "name": "stdout",
     "output_type": "stream",
     "text": [
      "Professional        6680\n",
      "Maintenance         6253\n",
      " Adm-clerical       3081\n",
      " Sales              3023\n",
      " Other-service      2708\n",
      " ?                  1373\n",
      "Machinery           1333\n",
      " Farming-fishing     811\n",
      " Tech-support        748\n",
      "Security             517\n",
      "Name: Job_Occupation, dtype: int64\n"
     ]
    }
   ],
   "source": [
    "#Check distinct values of Job Occupation\n",
    "print(df['Job_Occupation'].value_counts())"
   ]
  },
  {
   "cell_type": "code",
   "execution_count": 52,
   "metadata": {},
   "outputs": [],
   "source": [
    "#Create Dictionary per Employment\n",
    "Employment_map = {\n",
    "  \"Local-gov\": \"Pulic Sector\",\n",
    "  \"Private\": \"Private Sector\",\n",
    "  \"Self-emp-inc\": \"Private Sector\",\n",
    "  \"Self-emp-not-inc\": \"Private Sector\",\n",
    "  \"State-gov\": \"Pulic Sector\",\n",
    "  \"Never-worked\": \"No  Salary\",\n",
    "  \"Without-pay\": \"No  Salary\",\n",
    "}\n",
    "\n",
    "#Iterate through the Education and categorize them\n",
    "for index, row in df.iterrows():\n",
    "    \n",
    "    employment = row['Employment_Type'].strip(); #set the occupation to categorize\n",
    "    \n",
    "    if employment in Employment_map.keys():\n",
    "        \n",
    "        df.at[index, 'Employment_Type'] = Employment_map[employment]\n",
    "        \n",
    "    else:\n",
    "        continue"
   ]
  },
  {
   "cell_type": "code",
   "execution_count": 53,
   "metadata": {},
   "outputs": [
    {
     "name": "stdout",
     "output_type": "stream",
     "text": [
      "Private Sector    21640\n",
      "Pulic Sector       2733\n",
      " ?                 1369\n",
      " Federal-gov        773\n",
      "No  Salary           12\n",
      "Name: Employment_Type, dtype: int64\n"
     ]
    }
   ],
   "source": [
    "#Check distinct values of Employment\n",
    "print(df['Employment_Type'].value_counts())"
   ]
  },
  {
   "cell_type": "code",
   "execution_count": 54,
   "metadata": {},
   "outputs": [],
   "source": [
    "#Create Dictionary per Marital Status\n",
    "MaritalStatus_map = {\n",
    "  \"Married-AF-spouse\": \"Married\",\n",
    "  \"Married-civ-spouse\": \"Married\",\n",
    "  \"Married-spouse-absent\": \"Married\",\n",
    "  \"Never-married\": \"Single\",\n",
    "  \"Separated\": \"Single\",\n",
    "  \"Widowed\": \"Used To be married\"\n",
    "}\n",
    "\n",
    "#Iterate through the Education and categorize them\n",
    "for index, row in df.iterrows():\n",
    "    \n",
    "    status = row['Marital_Status'].strip(); #set the occupation to categorize\n",
    "    \n",
    "    if status in MaritalStatus_map.keys():\n",
    "        \n",
    "        df.at[index, 'Marital_Status'] = MaritalStatus_map[status]\n",
    "        \n",
    "    else:\n",
    "        continue"
   ]
  },
  {
   "cell_type": "code",
   "execution_count": 55,
   "metadata": {},
   "outputs": [
    {
     "name": "stdout",
     "output_type": "stream",
     "text": [
      "Married               12591\n",
      "Single                 9519\n",
      " Divorced              3623\n",
      "Used To be married      794\n",
      "Name: Marital_Status, dtype: int64\n"
     ]
    }
   ],
   "source": [
    "#Check distinct values of Marital Status\n",
    "print(df['Marital_Status'].value_counts())\n"
   ]
  },
  {
   "cell_type": "code",
   "execution_count": 56,
   "metadata": {},
   "outputs": [
    {
     "data": {
      "text/html": [
       "<div>\n",
       "<style scoped>\n",
       "    .dataframe tbody tr th:only-of-type {\n",
       "        vertical-align: middle;\n",
       "    }\n",
       "\n",
       "    .dataframe tbody tr th {\n",
       "        vertical-align: top;\n",
       "    }\n",
       "\n",
       "    .dataframe thead th {\n",
       "        text-align: right;\n",
       "    }\n",
       "</style>\n",
       "<table border=\"1\" class=\"dataframe\">\n",
       "  <thead>\n",
       "    <tr style=\"text-align: right;\">\n",
       "      <th></th>\n",
       "      <th>Age</th>\n",
       "      <th>Age_Bin</th>\n",
       "      <th>Weekly_Working_Hrs_Bin</th>\n",
       "    </tr>\n",
       "  </thead>\n",
       "  <tbody>\n",
       "    <tr>\n",
       "      <th>count</th>\n",
       "      <td>26527.000000</td>\n",
       "      <td>26527.000000</td>\n",
       "      <td>26527.000000</td>\n",
       "    </tr>\n",
       "    <tr>\n",
       "      <th>mean</th>\n",
       "      <td>38.504957</td>\n",
       "      <td>1.510348</td>\n",
       "      <td>1.828137</td>\n",
       "    </tr>\n",
       "    <tr>\n",
       "      <th>std</th>\n",
       "      <td>13.556433</td>\n",
       "      <td>1.157813</td>\n",
       "      <td>1.055060</td>\n",
       "    </tr>\n",
       "    <tr>\n",
       "      <th>min</th>\n",
       "      <td>17.000000</td>\n",
       "      <td>0.000000</td>\n",
       "      <td>0.000000</td>\n",
       "    </tr>\n",
       "    <tr>\n",
       "      <th>25%</th>\n",
       "      <td>28.000000</td>\n",
       "      <td>0.000000</td>\n",
       "      <td>2.000000</td>\n",
       "    </tr>\n",
       "    <tr>\n",
       "      <th>50%</th>\n",
       "      <td>37.000000</td>\n",
       "      <td>2.000000</td>\n",
       "      <td>2.000000</td>\n",
       "    </tr>\n",
       "    <tr>\n",
       "      <th>75%</th>\n",
       "      <td>47.000000</td>\n",
       "      <td>3.000000</td>\n",
       "      <td>3.000000</td>\n",
       "    </tr>\n",
       "    <tr>\n",
       "      <th>max</th>\n",
       "      <td>90.000000</td>\n",
       "      <td>3.000000</td>\n",
       "      <td>3.000000</td>\n",
       "    </tr>\n",
       "  </tbody>\n",
       "</table>\n",
       "</div>"
      ],
      "text/plain": [
       "                Age       Age_Bin  Weekly_Working_Hrs_Bin\n",
       "count  26527.000000  26527.000000            26527.000000\n",
       "mean      38.504957      1.510348                1.828137\n",
       "std       13.556433      1.157813                1.055060\n",
       "min       17.000000      0.000000                0.000000\n",
       "25%       28.000000      0.000000                2.000000\n",
       "50%       37.000000      2.000000                2.000000\n",
       "75%       47.000000      3.000000                3.000000\n",
       "max       90.000000      3.000000                3.000000"
      ]
     },
     "execution_count": 56,
     "metadata": {},
     "output_type": "execute_result"
    }
   ],
   "source": [
    "#Display the descriptive statistics of the data before training and transforming the data.\n",
    "df.describe()"
   ]
  },
  {
   "cell_type": "code",
   "execution_count": 57,
   "metadata": {},
   "outputs": [
    {
     "name": "stdout",
     "output_type": "stream",
     "text": [
      "\n",
      "Training Data\n",
      "-------------\n",
      "X-side: (22547, 32)\n",
      "y-side: 22547\n",
      "\n",
      "\n",
      "Testing Data\n",
      "------------\n",
      "X-side: (3980, 32)\n",
      "y-side: 3980\n",
      "\n"
     ]
    }
   ],
   "source": [
    "# preparing response variable data\n",
    "Income_target = df.loc[ : , 'Income_>50k']\n",
    "\n",
    "# preparing explanatory variable data\n",
    "# creating the dummies to create model ready dataset\n",
    "\n",
    "Income_input=df.iloc[:,:-1]\n",
    "Income_input = pd.get_dummies(Income_input, drop_first=True)\n",
    "pd.set_option('display.max_columns', 1000)\n",
    "\n",
    "# preparing training and testing sets\n",
    "x_train, x_test, y_train, y_test = train_test_split(\n",
    "            Income_input,\n",
    "            Income_target,\n",
    "            test_size = 0.15,\n",
    "            shuffle = 1,\n",
    "            random_state = 123)\n",
    "\n",
    "#checking the shapes of the datasets\n",
    "print(f\"\"\"\n",
    "Training Data\n",
    "-------------\n",
    "X-side: {x_train.shape}\n",
    "y-side: {y_train.shape[0]}\n",
    "\n",
    "\n",
    "Testing Data\n",
    "------------\n",
    "X-side: {x_test.shape}\n",
    "y-side: {y_test.shape[0]}\n",
    "\"\"\")\n"
   ]
  },
  {
   "cell_type": "code",
   "execution_count": 58,
   "metadata": {},
   "outputs": [],
   "source": [
    "#Export the files\n",
    "x_train.to_csv(\"train_features.csv\")\n",
    "y_train.to_csv(\"train_y.csv\")\n",
    "\n",
    "x_test.to_csv(\"test_features.csv\")\n",
    "y_test.to_csv(\"test_y.csv\")"
   ]
  },
  {
   "cell_type": "code",
   "execution_count": 59,
   "metadata": {},
   "outputs": [
    {
     "data": {
      "text/plain": [
       "'/Users/deomujinga/Downloads/Data-Engineering-and-Training-and-Testing-Data-main'"
      ]
     },
     "execution_count": 59,
     "metadata": {},
     "output_type": "execute_result"
    }
   ],
   "source": [
    "#Get the file location\n",
    "\n",
    "import os\n",
    "os.getcwd()\n"
   ]
  }
 ],
 "metadata": {
  "kernelspec": {
   "display_name": "Python 3 (ipykernel)",
   "language": "python",
   "name": "python3"
  },
  "language_info": {
   "codemirror_mode": {
    "name": "ipython",
    "version": 3
   },
   "file_extension": ".py",
   "mimetype": "text/x-python",
   "name": "python",
   "nbconvert_exporter": "python",
   "pygments_lexer": "ipython3",
   "version": "3.9.7"
  },
  "toc": {
   "base_numbering": 1,
   "nav_menu": {},
   "number_sections": true,
   "sideBar": true,
   "skip_h1_title": false,
   "title_cell": "Table of Contents",
   "title_sidebar": "Contents",
   "toc_cell": false,
   "toc_position": {},
   "toc_section_display": true,
   "toc_window_display": false
  },
  "varInspector": {
   "cols": {
    "lenName": 16,
    "lenType": 16,
    "lenVar": 40
   },
   "kernels_config": {
    "python": {
     "delete_cmd_postfix": "",
     "delete_cmd_prefix": "del ",
     "library": "var_list.py",
     "varRefreshCmd": "print(var_dic_list())"
    },
    "r": {
     "delete_cmd_postfix": ") ",
     "delete_cmd_prefix": "rm(",
     "library": "var_list.r",
     "varRefreshCmd": "cat(var_dic_list()) "
    }
   },
   "types_to_exclude": [
    "module",
    "function",
    "builtin_function_or_method",
    "instance",
    "_Feature"
   ],
   "window_display": false
  }
 },
 "nbformat": 4,
 "nbformat_minor": 4
}
